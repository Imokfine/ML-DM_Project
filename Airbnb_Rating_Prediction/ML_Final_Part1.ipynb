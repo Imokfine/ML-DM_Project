{
  "nbformat": 4,
  "nbformat_minor": 0,
  "metadata": {
    "colab": {
      "provenance": []
    },
    "kernelspec": {
      "name": "python3",
      "display_name": "Python 3"
    },
    "language_info": {
      "name": "python"
    }
  },
  "cells": [
    {
      "cell_type": "code",
      "execution_count": null,
      "metadata": {
        "colab": {
          "base_uri": "https://localhost:8080/"
        },
        "id": "a1bVhOqWqJj3",
        "outputId": "625dac0d-701a-4adb-f6ca-23d44bb42203"
      },
      "outputs": [
        {
          "output_type": "stream",
          "name": "stdout",
          "text": [
            "Looking in indexes: https://pypi.org/simple, https://us-python.pkg.dev/colab-wheels/public/simple/\n",
            "Requirement already satisfied: langdetect in /usr/local/lib/python3.8/dist-packages (1.0.9)\n",
            "Requirement already satisfied: six in /usr/local/lib/python3.8/dist-packages (from langdetect) (1.15.0)\n",
            "Looking in indexes: https://pypi.org/simple, https://us-python.pkg.dev/colab-wheels/public/simple/\n",
            "Requirement already satisfied: stop_words in /usr/local/lib/python3.8/dist-packages (2018.7.23)\n"
          ]
        }
      ],
      "source": [
        "!pip install langdetect\n",
        "!pip install stop_words"
      ]
    },
    {
      "cell_type": "markdown",
      "source": [
        "# Import library and EDA"
      ],
      "metadata": {
        "id": "4f0fHzyu_8Nm"
      }
    },
    {
      "cell_type": "code",
      "source": [
        "import numpy as np\n",
        "import pandas as pd\n",
        "import matplotlib.pyplot as plt\n",
        "import seaborn as sns\n",
        "\n",
        "import numpy as np\n",
        "import pandas as pd\n",
        "import seaborn as sns\n",
        "from sklearn import linear_model\n",
        "import matplotlib.pyplot as plt\n",
        "\n",
        "## for text field processing\n",
        "import nltk\n",
        "from nltk.sentiment.vader import SentimentIntensityAnalyzer\n",
        "from sklearn import datasets, feature_extraction, decomposition\n",
        "from nltk.stem.porter import PorterStemmer\n",
        "nltk.download('vader_lexicon')\n",
        "\n",
        "import gensim\n",
        "from gensim import corpora\n",
        "import re\n",
        "import stop_words\n",
        "from stop_words import get_stop_words\n",
        "import operator\n",
        "from gensim.models import CoherenceModel\n",
        "\n",
        "# for non-english detection\n",
        "from langdetect import detect"
      ],
      "metadata": {
        "colab": {
          "base_uri": "https://localhost:8080/"
        },
        "id": "5l-wcwVCrIpQ",
        "outputId": "d28a919e-d4a5-4fb7-e2f0-a70f233c7265"
      },
      "execution_count": null,
      "outputs": [
        {
          "output_type": "stream",
          "name": "stderr",
          "text": [
            "[nltk_data] Downloading package vader_lexicon to /root/nltk_data...\n",
            "[nltk_data]   Package vader_lexicon is already up-to-date!\n"
          ]
        }
      ]
    },
    {
      "cell_type": "code",
      "source": [
        "reviews_total = pd.read_csv(r'/content/reviews.csv')"
      ],
      "metadata": {
        "id": "RRUXizbhR4gp"
      },
      "execution_count": null,
      "outputs": []
    },
    {
      "cell_type": "code",
      "source": [
        "listings_total = pd.read_csv(r'/content/listings.csv')"
      ],
      "metadata": {
        "id": "mPV0Si8WrPWs"
      },
      "execution_count": null,
      "outputs": []
    },
    {
      "cell_type": "code",
      "source": [
        "listings_total.info()"
      ],
      "metadata": {
        "colab": {
          "base_uri": "https://localhost:8080/"
        },
        "id": "70MCMg-UsfeX",
        "outputId": "ca2faf12-d269-4c4e-8e5a-62643975aa76"
      },
      "execution_count": null,
      "outputs": [
        {
          "output_type": "stream",
          "name": "stdout",
          "text": [
            "<class 'pandas.core.frame.DataFrame'>\n",
            "RangeIndex: 7566 entries, 0 to 7565\n",
            "Data columns (total 75 columns):\n",
            " #   Column                                        Non-Null Count  Dtype  \n",
            "---  ------                                        --------------  -----  \n",
            " 0   id                                            7566 non-null   int64  \n",
            " 1   listing_url                                   7566 non-null   object \n",
            " 2   scrape_id                                     7566 non-null   int64  \n",
            " 3   last_scraped                                  7566 non-null   object \n",
            " 4   source                                        7566 non-null   object \n",
            " 5   name                                          7566 non-null   object \n",
            " 6   description                                   7411 non-null   object \n",
            " 7   neighborhood_overview                         4194 non-null   object \n",
            " 8   picture_url                                   7566 non-null   object \n",
            " 9   host_id                                       7566 non-null   int64  \n",
            " 10  host_url                                      7566 non-null   object \n",
            " 11  host_name                                     7566 non-null   object \n",
            " 12  host_since                                    7566 non-null   object \n",
            " 13  host_location                                 6232 non-null   object \n",
            " 14  host_about                                    3556 non-null   object \n",
            " 15  host_response_time                            3932 non-null   object \n",
            " 16  host_response_rate                            3932 non-null   object \n",
            " 17  host_acceptance_rate                          4191 non-null   object \n",
            " 18  host_is_superhost                             7566 non-null   object \n",
            " 19  host_thumbnail_url                            7566 non-null   object \n",
            " 20  host_picture_url                              7566 non-null   object \n",
            " 21  host_neighbourhood                            5234 non-null   object \n",
            " 22  host_listings_count                           7566 non-null   int64  \n",
            " 23  host_total_listings_count                     7566 non-null   int64  \n",
            " 24  host_verifications                            7566 non-null   object \n",
            " 25  host_has_profile_pic                          7566 non-null   object \n",
            " 26  host_identity_verified                        7566 non-null   object \n",
            " 27  neighbourhood                                 4194 non-null   object \n",
            " 28  neighbourhood_cleansed                        7566 non-null   object \n",
            " 29  neighbourhood_group_cleansed                  0 non-null      float64\n",
            " 30  latitude                                      7566 non-null   float64\n",
            " 31  longitude                                     7566 non-null   float64\n",
            " 32  property_type                                 7566 non-null   object \n",
            " 33  room_type                                     7566 non-null   object \n",
            " 34  accommodates                                  7566 non-null   int64  \n",
            " 35  bathrooms                                     0 non-null      float64\n",
            " 36  bathrooms_text                                7562 non-null   object \n",
            " 37  bedrooms                                      7361 non-null   float64\n",
            " 38  beds                                          7472 non-null   float64\n",
            " 39  amenities                                     7566 non-null   object \n",
            " 40  price                                         7566 non-null   object \n",
            " 41  minimum_nights                                7566 non-null   int64  \n",
            " 42  maximum_nights                                7566 non-null   int64  \n",
            " 43  minimum_minimum_nights                        7566 non-null   int64  \n",
            " 44  maximum_minimum_nights                        7566 non-null   int64  \n",
            " 45  minimum_maximum_nights                        7566 non-null   int64  \n",
            " 46  maximum_maximum_nights                        7566 non-null   int64  \n",
            " 47  minimum_nights_avg_ntm                        7566 non-null   float64\n",
            " 48  maximum_nights_avg_ntm                        7566 non-null   float64\n",
            " 49  calendar_updated                              0 non-null      float64\n",
            " 50  has_availability                              7566 non-null   object \n",
            " 51  availability_30                               7566 non-null   int64  \n",
            " 52  availability_60                               7566 non-null   int64  \n",
            " 53  availability_90                               7566 non-null   int64  \n",
            " 54  availability_365                              7566 non-null   int64  \n",
            " 55  calendar_last_scraped                         7566 non-null   object \n",
            " 56  number_of_reviews                             7566 non-null   int64  \n",
            " 57  number_of_reviews_ltm                         7566 non-null   int64  \n",
            " 58  number_of_reviews_l30d                        7566 non-null   int64  \n",
            " 59  first_review                                  6209 non-null   object \n",
            " 60  last_review                                   6209 non-null   object \n",
            " 61  review_scores_rating                          6209 non-null   float64\n",
            " 62  review_scores_accuracy                        6085 non-null   float64\n",
            " 63  review_scores_cleanliness                     6086 non-null   float64\n",
            " 64  review_scores_checkin                         6081 non-null   float64\n",
            " 65  review_scores_communication                   6085 non-null   float64\n",
            " 66  review_scores_location                        6081 non-null   float64\n",
            " 67  review_scores_value                           6079 non-null   float64\n",
            " 68  license                                       0 non-null      float64\n",
            " 69  instant_bookable                              7566 non-null   object \n",
            " 70  calculated_host_listings_count                7566 non-null   int64  \n",
            " 71  calculated_host_listings_count_entire_homes   7566 non-null   int64  \n",
            " 72  calculated_host_listings_count_private_rooms  7566 non-null   int64  \n",
            " 73  calculated_host_listings_count_shared_rooms   7566 non-null   int64  \n",
            " 74  reviews_per_month                             6209 non-null   float64\n",
            "dtypes: float64(18), int64(23), object(34)\n",
            "memory usage: 4.3+ MB\n"
          ]
        }
      ]
    },
    {
      "cell_type": "code",
      "source": [
        "reviews_total.info()"
      ],
      "metadata": {
        "colab": {
          "base_uri": "https://localhost:8080/"
        },
        "id": "kdo8CY-islZJ",
        "outputId": "01e59ff4-2260-4586-c1d1-b43aeac52a34"
      },
      "execution_count": null,
      "outputs": [
        {
          "output_type": "stream",
          "name": "stdout",
          "text": [
            "<class 'pandas.core.frame.DataFrame'>\n",
            "RangeIndex: 243183 entries, 0 to 243182\n",
            "Data columns (total 6 columns):\n",
            " #   Column         Non-Null Count   Dtype \n",
            "---  ------         --------------   ----- \n",
            " 0   listing_id     243183 non-null  int64 \n",
            " 1   id             243183 non-null  int64 \n",
            " 2   date           243183 non-null  object\n",
            " 3   reviewer_id    243183 non-null  int64 \n",
            " 4   reviewer_name  243183 non-null  object\n",
            " 5   comments       243165 non-null  object\n",
            "dtypes: int64(3), object(3)\n",
            "memory usage: 11.1+ MB\n"
          ]
        }
      ]
    },
    {
      "cell_type": "markdown",
      "source": [
        "# Functions"
      ],
      "metadata": {
        "id": "0xwPj0ZQ-eSe"
      }
    },
    {
      "cell_type": "code",
      "source": [
        "# Function for sentiment analysis\n",
        "def sent_analysis(df,x,column_name):\n",
        "    df[column_name] = 0\n",
        "    sia = SentimentIntensityAnalyzer()\n",
        "\n",
        "    for i in range(len(df)):\n",
        "        s = str(df.iloc[i,df.columns.get_loc(x)])\n",
        "\n",
        "        # Calculate sentiment score for description\n",
        "        sentiment = sia.polarity_scores(s)\n",
        "        df.iloc[i, df.columns.get_loc(column_name)] = sentiment[\"compound\"]"
      ],
      "metadata": {
        "id": "7xiv7BP3-g3Q"
      },
      "execution_count": null,
      "outputs": []
    },
    {
      "cell_type": "code",
      "source": [
        "# Function to remove non-english row\n",
        "def drop_nonen_row(df,x):\n",
        "    index_remove = []\n",
        "    for i in range(len(df)):\n",
        "      try:\n",
        "        if detect(df.iloc[i,df.columns.get_loc(x)]) != 'en':\n",
        "            index_remove.append(i)\n",
        "      except:\n",
        "        index_remove.append(i)\n",
        "\n",
        "    # print(index_remove)\n",
        "    df_drop = df.drop(index_remove)\n",
        "    df_drop = df_drop.reset_index(drop=True)\n",
        "    return df_drop"
      ],
      "metadata": {
        "id": "2QN9HQzt-qQT"
      },
      "execution_count": null,
      "outputs": []
    },
    {
      "cell_type": "markdown",
      "source": [
        "# Data cleaning and feature engineering for listings"
      ],
      "metadata": {
        "id": "Gl5Wdy_vz77A"
      }
    },
    {
      "cell_type": "code",
      "source": [
        "keep = ['id','description','host_response_time','host_response_rate','host_acceptance_rate',\n",
        "     'host_is_superhost','host_has_profile_pic','host_identity_verified',\n",
        "     'neighbourhood_cleansed','room_type','accommodates','bathrooms_text',\n",
        "     'bedrooms','beds','amenities','price','has_availability',\n",
        "     'review_scores_rating','review_scores_accuracy','review_scores_cleanliness',\n",
        "     'review_scores_checkin','review_scores_communication','review_scores_location',\n",
        "     'review_scores_value','instant_bookable','reviews_per_month']\n",
        "listings = listings_total[keep]"
      ],
      "metadata": {
        "id": "Ze04Zu90stid"
      },
      "execution_count": null,
      "outputs": []
    },
    {
      "cell_type": "code",
      "source": [
        "pd.isnull(listings).sum()"
      ],
      "metadata": {
        "colab": {
          "base_uri": "https://localhost:8080/"
        },
        "id": "9dTiaUE-svhf",
        "outputId": "c7cbd6c2-fdce-44eb-bebd-977c7e1e5d71"
      },
      "execution_count": null,
      "outputs": [
        {
          "output_type": "execute_result",
          "data": {
            "text/plain": [
              "id                                0\n",
              "description                     155\n",
              "host_response_time             3634\n",
              "host_response_rate             3634\n",
              "host_acceptance_rate           3375\n",
              "host_is_superhost                 0\n",
              "host_has_profile_pic              0\n",
              "host_identity_verified            0\n",
              "neighbourhood_cleansed            0\n",
              "room_type                         0\n",
              "accommodates                      0\n",
              "bathrooms_text                    4\n",
              "bedrooms                        205\n",
              "beds                             94\n",
              "amenities                         0\n",
              "price                             0\n",
              "has_availability                  0\n",
              "review_scores_rating           1357\n",
              "review_scores_accuracy         1481\n",
              "review_scores_cleanliness      1480\n",
              "review_scores_checkin          1485\n",
              "review_scores_communication    1481\n",
              "review_scores_location         1485\n",
              "review_scores_value            1487\n",
              "instant_bookable                  0\n",
              "reviews_per_month              1357\n",
              "dtype: int64"
            ]
          },
          "metadata": {},
          "execution_count": 200
        }
      ]
    },
    {
      "cell_type": "code",
      "source": [
        "# Delete the row with Null review_scores_rating\n",
        "listings = listings.dropna(subset = ['review_scores_rating'])\n",
        "listings = listings.reset_index(drop=True)"
      ],
      "metadata": {
        "id": "etRe5KXlBHt6"
      },
      "execution_count": null,
      "outputs": []
    },
    {
      "cell_type": "code",
      "source": [
        "# Fill missing value with mode\n",
        "def fillnamode(x):\n",
        "    listings.loc[:,x] = listings.loc[:,x].fillna(listings.loc[:,x].value_counts().index[0])\n",
        "    return \n",
        "\n",
        "fillnamode('host_response_time')\n",
        "fillnamode('host_response_rate')\n",
        "fillnamode('host_acceptance_rate')\n",
        "fillnamode('bathrooms_text')\n",
        "fillnamode('bedrooms')\n",
        "fillnamode('beds')\n",
        "\n",
        "# Fill missing value with mean\n",
        "def fillnamean(x):\n",
        "    listings.loc[:,x] = listings.loc[:,x].fillna(listings.loc[:,x].mean())\n",
        "    return \n",
        "\n",
        "fillnamean('review_scores_accuracy')\n",
        "fillnamean('review_scores_cleanliness')\n",
        "fillnamean('review_scores_checkin')\n",
        "fillnamean('review_scores_communication')\n",
        "fillnamean('review_scores_location')\n",
        "fillnamean('review_scores_value')\n",
        "\n",
        "# Fill missing value with \"\"\n",
        "listings.loc[:,'description'] = listings.loc[:,'description'].fillna('')"
      ],
      "metadata": {
        "id": "6Af339nh3Ezp"
      },
      "execution_count": null,
      "outputs": []
    },
    {
      "cell_type": "code",
      "source": [
        "pd.isnull(listings).sum()"
      ],
      "metadata": {
        "colab": {
          "base_uri": "https://localhost:8080/"
        },
        "id": "ocqPd5BEA802",
        "outputId": "fa651bbe-438d-4098-c2ba-db52db03e830"
      },
      "execution_count": null,
      "outputs": [
        {
          "output_type": "execute_result",
          "data": {
            "text/plain": [
              "id                             0\n",
              "description                    0\n",
              "host_response_time             0\n",
              "host_response_rate             0\n",
              "host_acceptance_rate           0\n",
              "host_is_superhost              0\n",
              "host_has_profile_pic           0\n",
              "host_identity_verified         0\n",
              "neighbourhood_cleansed         0\n",
              "room_type                      0\n",
              "accommodates                   0\n",
              "bathrooms_text                 0\n",
              "bedrooms                       0\n",
              "beds                           0\n",
              "amenities                      0\n",
              "price                          0\n",
              "has_availability               0\n",
              "review_scores_rating           0\n",
              "review_scores_accuracy         0\n",
              "review_scores_cleanliness      0\n",
              "review_scores_checkin          0\n",
              "review_scores_communication    0\n",
              "review_scores_location         0\n",
              "review_scores_value            0\n",
              "instant_bookable               0\n",
              "reviews_per_month              0\n",
              "dtype: int64"
            ]
          },
          "metadata": {},
          "execution_count": 203
        }
      ]
    },
    {
      "cell_type": "code",
      "source": [
        "# Convert host_response_time to an integer\n",
        "listings.loc[listings['host_response_time'] == 'within an hour','host_response_time'] = 1\n",
        "listings.loc[listings['host_response_time'] == 'within a few hours','host_response_time'] = 2\n",
        "listings.loc[listings['host_response_time'] == 'within a day','host_response_time'] = 3\n",
        "listings.loc[listings['host_response_time'] == 'a few days or more','host_response_time'] = 4\n",
        "\n",
        "# Convert to float\n",
        "for i in range(len(listings)):\n",
        "    listings.iloc[i,listings.columns.get_loc('host_response_rate')] = float(str(listings.iloc[i,listings.columns.get_loc('host_response_rate')]).strip(\"%\"))/100\n",
        "\n",
        "for i in range(len(listings)):\n",
        "    listings.iloc[i,listings.columns.get_loc('host_acceptance_rate')] = float(str(listings.iloc[i,listings.columns.get_loc('host_acceptance_rate')]).strip(\"%\"))/100\n",
        "    \n",
        "# Clean bathroom number\n",
        "for i in range(len(listings)):\n",
        "    listings.iloc[i,listings.columns.get_loc('bathrooms_text')] = str(listings.iloc[i,listings.columns.get_loc('bathrooms_text')]).replace(\"Shared half-bath\", \"0.5 bath\").replace(\"Half-bath\", \"0.5 bath\").replace(\"Private half-bath\", \"0.5 bath\")\n",
        "\n",
        "for i in range(len(listings)):\n",
        "    listings.iloc[i,listings.columns.get_loc('bathrooms_text')] = float(listings.iloc[i,listings.columns.get_loc('bathrooms_text')].split(\" \")[0])\n",
        "    \n",
        "# Convert to bool\n",
        "def convert_bool(x):\n",
        "    listings.loc[listings[x] == 'f',x] = 0\n",
        "    listings.loc[listings[x] == 't',x] = 1\n",
        "\n",
        "convert_bool('host_is_superhost')\n",
        "convert_bool('host_has_profile_pic')\n",
        "convert_bool('host_identity_verified')\n",
        "convert_bool('has_availability')\n",
        "convert_bool('instant_bookable')\n",
        "\n",
        "# Clean price\n",
        "for i in range(len(listings)):\n",
        "    listings.iloc[i,listings.columns.get_loc('price')] = float(str(listings.iloc[i,listings.columns.get_loc('price')]).replace(\"$\", \"\").replace(\",\", \"\"))"
      ],
      "metadata": {
        "id": "ZNltcYPRsym1"
      },
      "execution_count": null,
      "outputs": []
    },
    {
      "cell_type": "code",
      "source": [
        "# Create new features\n",
        "\n",
        "# Calculate the share of bathrooms, bedrooms and beds and  per person\n",
        "listings = listings.assign(\n",
        "    bathroom_per_person = listings.bathrooms_text/listings.accommodates,\n",
        "    bedroom_per_person = listings.bedrooms/listings.accommodates,\n",
        "    bed_per_person = listings.beds/listings.accommodates)\n",
        "\n",
        "for i in range(len(listings)):\n",
        "    listings.iloc[i,listings.columns.get_loc('bedroom_per_person')] = format(listings.iloc[i,listings.columns.get_loc('bedroom_per_person')], '.2f')\n",
        "\n",
        "for i in range(len(listings)):\n",
        "    listings.iloc[i,listings.columns.get_loc('bed_per_person')] = format(listings.iloc[i,listings.columns.get_loc('bed_per_person')], '.2f')"
      ],
      "metadata": {
        "id": "aOtYnRWV0dSa"
      },
      "execution_count": null,
      "outputs": []
    },
    {
      "cell_type": "code",
      "source": [
        "# Dummy ecoding\n",
        "def dummy_ecoding(x):\n",
        "    dummies = pd.get_dummies(listings[x])\n",
        "    merged = pd.concat([listings, dummies], axis='columns')\n",
        "    final = merged.drop([x], axis='columns')\n",
        "    return final\n",
        "\n",
        "listings = dummy_ecoding('neighbourhood_cleansed')\n",
        "listings = dummy_ecoding('room_type')"
      ],
      "metadata": {
        "id": "Ae1VwEck0lmE"
      },
      "execution_count": null,
      "outputs": []
    },
    {
      "cell_type": "code",
      "source": [
        "# Processing amenities\n",
        "listings_amenities = pd.DataFrame(index = range(len(listings)))\n",
        "listings_amenities['id'] = listings['id']\n",
        "\n",
        "def amenities_in(x):\n",
        "    # Create a new column called x and set all values to 0\n",
        "    listings_amenities[x] = 0\n",
        "\n",
        "    # Loop through the rows of the DataFrame\n",
        "    for i in range(len(listings['amenities'])):\n",
        "        content = ast.literal_eval(listings.iloc[i, listings.columns.get_loc('amenities')])\n",
        "        if x in content:\n",
        "        # If the word x appears in the content, set the value of the x column to 1\n",
        "            listings_amenities.loc[i, x] = 1"
      ],
      "metadata": {
        "id": "dVN1wBgs0nxU"
      },
      "execution_count": null,
      "outputs": []
    },
    {
      "cell_type": "code",
      "source": [
        "amenities_keyword = [\"Oven\", \"Fire extinguisher\", \"Dryer\", \"Hangers\", \"Kitchen\", \n",
        "                     \"Cooking basics\", \"Breakfast\", \"Microwave\", \"Heating\", \"Washer\", \n",
        "                     \"First aid kit\", \"Hot water\", \"Iron\", \"Dishwasher\", \n",
        "                     \"Shampoo\", \"Luggage dropoff allowed\", \"Coffee maker\", \"Essentials\", \n",
        "                     \"Refrigerator\", \"Bed linens\", \"Wifi\", \"Self check-in\", \"Pets allowed\", \"Elevator\"]"
      ],
      "metadata": {
        "id": "xHSE05Lh0pm3"
      },
      "execution_count": null,
      "outputs": []
    },
    {
      "cell_type": "code",
      "source": [
        "for i in amenities_keyword:\n",
        "    amenities_in(i)"
      ],
      "metadata": {
        "id": "dLly63LK0rIJ"
      },
      "execution_count": null,
      "outputs": []
    },
    {
      "cell_type": "code",
      "source": [
        "# Merge listings and listings_amenities\n",
        "listings = pd.merge(listings, listings_amenities,on=['id'])"
      ],
      "metadata": {
        "id": "knYcX8KK0tFo"
      },
      "execution_count": null,
      "outputs": []
    },
    {
      "cell_type": "code",
      "source": [
        "# Draw violin plot\n",
        "tmp=pd.melt(listings,id_vars='id',\n",
        "            value_vars=[\"review_scores_rating\",\"review_scores_accuracy\",\"review_scores_cleanliness\",\"review_scores_checkin\",\"review_scores_communication\",\"review_scores_location\",\"review_scores_value\"],\n",
        "            var_name='rating_name',\n",
        "            value_name='score')\n",
        "\n",
        "# Visualization\n",
        "viz = sns.violinplot(x = 'rating_name',\n",
        "               y = 'score',\n",
        "               data = tmp, \n",
        "               #scale = 'count', \n",
        "               palette = 'RdBu' \n",
        "              )\n",
        "\n",
        "viz.set_title('Violin Plot of ratings')\n",
        "viz.set_xticklabels(viz.get_xticklabels(),rotation = 90)"
      ],
      "metadata": {
        "colab": {
          "base_uri": "https://localhost:8080/",
          "height": 559
        },
        "id": "QTKp4XCibJfq",
        "outputId": "1e98ac89-0c27-4e6f-d1de-bf88797e06ea"
      },
      "execution_count": null,
      "outputs": [
        {
          "output_type": "execute_result",
          "data": {
            "text/plain": [
              "[Text(0, 0, 'review_scores_rating'),\n",
              " Text(0, 0, 'review_scores_accuracy'),\n",
              " Text(0, 0, 'review_scores_cleanliness'),\n",
              " Text(0, 0, 'review_scores_checkin'),\n",
              " Text(0, 0, 'review_scores_communication'),\n",
              " Text(0, 0, 'review_scores_location'),\n",
              " Text(0, 0, 'review_scores_value')]"
            ]
          },
          "metadata": {},
          "execution_count": 211
        },
        {
          "output_type": "display_data",
          "data": {
            "text/plain": [
              "<Figure size 432x288 with 1 Axes>"
            ],
            "image/png": "[encoded data removed]"
          },
          "metadata": {
            "needs_background": "light"
          }
        }
      ]
    },
    {
      "cell_type": "code",
      "source": [
        "listings.info()"
      ],
      "metadata": {
        "colab": {
          "base_uri": "https://localhost:8080/"
        },
        "id": "W16v8ftUCQv9",
        "outputId": "ee487a3a-f42f-42da-8b11-dbe2b9ba07fd"
      },
      "execution_count": null,
      "outputs": [
        {
          "output_type": "stream",
          "name": "stdout",
          "text": [
            "<class 'pandas.core.frame.DataFrame'>\n",
            "Int64Index: 6209 entries, 0 to 6208\n",
            "Data columns (total 59 columns):\n",
            " #   Column                       Non-Null Count  Dtype  \n",
            "---  ------                       --------------  -----  \n",
            " 0   id                           6209 non-null   int64  \n",
            " 1   description                  6209 non-null   object \n",
            " 2   host_response_time           6209 non-null   object \n",
            " 3   host_response_rate           6209 non-null   object \n",
            " 4   host_acceptance_rate         6209 non-null   object \n",
            " 5   host_is_superhost            6209 non-null   object \n",
            " 6   host_has_profile_pic         6209 non-null   object \n",
            " 7   host_identity_verified       6209 non-null   object \n",
            " 8   accommodates                 6209 non-null   int64  \n",
            " 9   bathrooms_text               6209 non-null   object \n",
            " 10  bedrooms                     6209 non-null   float64\n",
            " 11  beds                         6209 non-null   float64\n",
            " 12  amenities                    6209 non-null   object \n",
            " 13  price                        6209 non-null   object \n",
            " 14  has_availability             6209 non-null   object \n",
            " 15  review_scores_rating         6209 non-null   float64\n",
            " 16  review_scores_accuracy       6209 non-null   float64\n",
            " 17  review_scores_cleanliness    6209 non-null   float64\n",
            " 18  review_scores_checkin        6209 non-null   float64\n",
            " 19  review_scores_communication  6209 non-null   float64\n",
            " 20  review_scores_location       6209 non-null   float64\n",
            " 21  review_scores_value          6209 non-null   float64\n",
            " 22  instant_bookable             6209 non-null   object \n",
            " 23  reviews_per_month            6209 non-null   float64\n",
            " 24  bathroom_per_person          6209 non-null   object \n",
            " 25  bedroom_per_person           6209 non-null   object \n",
            " 26  bed_per_person               6209 non-null   object \n",
            " 27  Dn Laoghaire-Rathdown        6209 non-null   uint8  \n",
            " 28  Dublin City                  6209 non-null   uint8  \n",
            " 29  Fingal                       6209 non-null   uint8  \n",
            " 30  South Dublin                 6209 non-null   uint8  \n",
            " 31  Entire home/apt              6209 non-null   uint8  \n",
            " 32  Hotel room                   6209 non-null   uint8  \n",
            " 33  Private room                 6209 non-null   uint8  \n",
            " 34  Shared room                  6209 non-null   uint8  \n",
            " 35  Oven                         6209 non-null   int64  \n",
            " 36  Fire extinguisher            6209 non-null   int64  \n",
            " 37  Dryer                        6209 non-null   int64  \n",
            " 38  Hangers                      6209 non-null   int64  \n",
            " 39  Kitchen                      6209 non-null   int64  \n",
            " 40  Cooking basics               6209 non-null   int64  \n",
            " 41  Breakfast                    6209 non-null   int64  \n",
            " 42  Microwave                    6209 non-null   int64  \n",
            " 43  Heating                      6209 non-null   int64  \n",
            " 44  Washer                       6209 non-null   int64  \n",
            " 45  First aid kit                6209 non-null   int64  \n",
            " 46  Hot water                    6209 non-null   int64  \n",
            " 47  Iron                         6209 non-null   int64  \n",
            " 48  Dishwasher                   6209 non-null   int64  \n",
            " 49  Shampoo                      6209 non-null   int64  \n",
            " 50  Luggage dropoff allowed      6209 non-null   int64  \n",
            " 51  Coffee maker                 6209 non-null   int64  \n",
            " 52  Essentials                   6209 non-null   int64  \n",
            " 53  Refrigerator                 6209 non-null   int64  \n",
            " 54  Bed linens                   6209 non-null   int64  \n",
            " 55  Wifi                         6209 non-null   int64  \n",
            " 56  Self check-in                6209 non-null   int64  \n",
            " 57  Pets allowed                 6209 non-null   int64  \n",
            " 58  Elevator                     6209 non-null   int64  \n",
            "dtypes: float64(10), int64(26), object(15), uint8(8)\n",
            "memory usage: 2.5+ MB\n"
          ]
        }
      ]
    },
    {
      "cell_type": "markdown",
      "source": [
        "# Data cleaning and feature engineering for review"
      ],
      "metadata": {
        "id": "ZyYH_Gma_xlU"
      }
    },
    {
      "cell_type": "code",
      "source": [
        "reviews_total.shape"
      ],
      "metadata": {
        "colab": {
          "base_uri": "https://localhost:8080/"
        },
        "id": "xTxx7IF1_1AX",
        "outputId": "dd3a555d-e3ad-42b6-971d-26922d5ef6b8"
      },
      "execution_count": null,
      "outputs": [
        {
          "output_type": "execute_result",
          "data": {
            "text/plain": [
              "(243183, 6)"
            ]
          },
          "metadata": {},
          "execution_count": 213
        }
      ]
    },
    {
      "cell_type": "code",
      "source": [
        "reviews_total.drop(['id', 'date', 'reviewer_id', 'reviewer_name'], axis = 1, inplace = True)"
      ],
      "metadata": {
        "id": "hZsbtQpDay4F"
      },
      "execution_count": null,
      "outputs": []
    },
    {
      "cell_type": "code",
      "source": [
        "reviews_total.head()"
      ],
      "metadata": {
        "colab": {
          "base_uri": "https://localhost:8080/",
          "height": 206
        },
        "id": "NYJbCXv7ASTB",
        "outputId": "f211d9f3-131a-42be-da66-10612606d4e1"
      },
      "execution_count": null,
      "outputs": [
        {
          "output_type": "execute_result",
          "data": {
            "text/plain": [
              "   listing_id                                           comments\n",
              "0       44077  We enjoyed our stay very much. The room was co...\n",
              "1       44077  We have been here 4 nights. Stay in a home is ...\n",
              "2       44077  Teresa and Hughie were great hosts. They were ...\n",
              "3       44077  No surprises, was as described.  Very gracious...\n",
              "4       44077  Teresa was a lovely hostess, and we had a deli..."
            ],
            "text/html": [
              "\n",
              "  <div id=\"df-fff07e0d-e05a-45c8-a7f8-01e653d4c1b0\">\n",
              "    <div class=\"colab-df-container\">\n",
              "      <div>\n",
              "<style scoped>\n",
              "    .dataframe tbody tr th:only-of-type {\n",
              "        vertical-align: middle;\n",
              "    }\n",
              "\n",
              "    .dataframe tbody tr th {\n",
              "        vertical-align: top;\n",
              "    }\n",
              "\n",
              "    .dataframe thead th {\n",
              "        text-align: right;\n",
              "    }\n",
              "</style>\n",
              "<table border=\"1\" class=\"dataframe\">\n",
              "  <thead>\n",
              "    <tr style=\"text-align: right;\">\n",
              "      <th></th>\n",
              "      <th>listing_id</th>\n",
              "      <th>comments</th>\n",
              "    </tr>\n",
              "  </thead>\n",
              "  <tbody>\n",
              "    <tr>\n",
              "      <th>0</th>\n",
              "      <td>44077</td>\n",
              "      <td>We enjoyed our stay very much. The room was co...</td>\n",
              "    </tr>\n",
              "    <tr>\n",
              "      <th>1</th>\n",
              "      <td>44077</td>\n",
              "      <td>We have been here 4 nights. Stay in a home is ...</td>\n",
              "    </tr>\n",
              "    <tr>\n",
              "      <th>2</th>\n",
              "      <td>44077</td>\n",
              "      <td>Teresa and Hughie were great hosts. They were ...</td>\n",
              "    </tr>\n",
              "    <tr>\n",
              "      <th>3</th>\n",
              "      <td>44077</td>\n",
              "      <td>No surprises, was as described.  Very gracious...</td>\n",
              "    </tr>\n",
              "    <tr>\n",
              "      <th>4</th>\n",
              "      <td>44077</td>\n",
              "      <td>Teresa was a lovely hostess, and we had a deli...</td>\n",
              "    </tr>\n",
              "  </tbody>\n",
              "</table>\n",
              "</div>\n",
              "      <button class=\"colab-df-convert\" onclick=\"convertToInteractive('df-fff07e0d-e05a-45c8-a7f8-01e653d4c1b0')\"\n",
              "              title=\"Convert this dataframe to an interactive table.\"\n",
              "              style=\"display:none;\">\n",
              "        \n",
              "  <svg xmlns=\"http://www.w3.org/2000/svg\" height=\"24px\"viewBox=\"0 0 24 24\"\n",
              "       width=\"24px\">\n",
              "    <path d=\"M0 0h24v24H0V0z\" fill=\"none\"/>\n",
              "    <path d=\"M18.56 5.44l.94 2.06.94-2.06 2.06-.94-2.06-.94-.94-2.06-.94 2.06-2.06.94zm-11 1L8.5 8.5l.94-2.06 2.06-.94-2.06-.94L8.5 2.5l-.94 2.06-2.06.94zm10 10l.94 2.06.94-2.06 2.06-.94-2.06-.94-.94-2.06-.94 2.06-2.06.94z\"/><path d=\"M17.41 7.96l-1.37-1.37c-.4-.4-.92-.59-1.43-.59-.52 0-1.04.2-1.43.59L10.3 9.45l-7.72 7.72c-.78.78-.78 2.05 0 2.83L4 21.41c.39.39.9.59 1.41.59.51 0 1.02-.2 1.41-.59l7.78-7.78 2.81-2.81c.8-.78.8-2.07 0-2.86zM5.41 20L4 18.59l7.72-7.72 1.47 1.35L5.41 20z\"/>\n",
              "  </svg>\n",
              "      </button>\n",
              "      \n",
              "  <style>\n",
              "    .colab-df-container {\n",
              "      display:flex;\n",
              "      flex-wrap:wrap;\n",
              "      gap: 12px;\n",
              "    }\n",
              "\n",
              "    .colab-df-convert {\n",
              "      background-color: #E8F0FE;\n",
              "      border: none;\n",
              "      border-radius: 50%;\n",
              "      cursor: pointer;\n",
              "      display: none;\n",
              "      fill: #1967D2;\n",
              "      height: 32px;\n",
              "      padding: 0 0 0 0;\n",
              "      width: 32px;\n",
              "    }\n",
              "\n",
              "    .colab-df-convert:hover {\n",
              "      background-color: #E2EBFA;\n",
              "      box-shadow: 0px 1px 2px rgba(60, 64, 67, 0.3), 0px 1px 3px 1px rgba(60, 64, 67, 0.15);\n",
              "      fill: #174EA6;\n",
              "    }\n",
              "\n",
              "    [theme=dark] .colab-df-convert {\n",
              "      background-color: #3B4455;\n",
              "      fill: #D2E3FC;\n",
              "    }\n",
              "\n",
              "    [theme=dark] .colab-df-convert:hover {\n",
              "      background-color: #434B5C;\n",
              "      box-shadow: 0px 1px 3px 1px rgba(0, 0, 0, 0.15);\n",
              "      filter: drop-shadow(0px 1px 2px rgba(0, 0, 0, 0.3));\n",
              "      fill: #FFFFFF;\n",
              "    }\n",
              "  </style>\n",
              "\n",
              "      <script>\n",
              "        const buttonEl =\n",
              "          document.querySelector('#df-fff07e0d-e05a-45c8-a7f8-01e653d4c1b0 button.colab-df-convert');\n",
              "        buttonEl.style.display =\n",
              "          google.colab.kernel.accessAllowed ? 'block' : 'none';\n",
              "\n",
              "        async function convertToInteractive(key) {\n",
              "          const element = document.querySelector('#df-fff07e0d-e05a-45c8-a7f8-01e653d4c1b0');\n",
              "          const dataTable =\n",
              "            await google.colab.kernel.invokeFunction('convertToInteractive',\n",
              "                                                     [key], {});\n",
              "          if (!dataTable) return;\n",
              "\n",
              "          const docLinkHtml = 'Like what you see? Visit the ' +\n",
              "            '<a target=\"_blank\" href=https://colab.research.google.com/notebooks/data_table.ipynb>data table notebook</a>'\n",
              "            + ' to learn more about interactive tables.';\n",
              "          element.innerHTML = '';\n",
              "          dataTable['output_type'] = 'display_data';\n",
              "          await google.colab.output.renderOutput(dataTable, element);\n",
              "          const docLink = document.createElement('div');\n",
              "          docLink.innerHTML = docLinkHtml;\n",
              "          element.appendChild(docLink);\n",
              "        }\n",
              "      </script>\n",
              "    </div>\n",
              "  </div>\n",
              "  "
            ]
          },
          "metadata": {},
          "execution_count": 215
        }
      ]
    },
    {
      "cell_type": "code",
      "source": [
        "reviews_en = drop_nonen_row(reviews_total,'comments')"
      ],
      "metadata": {
        "id": "3jiHo2SZARBC"
      },
      "execution_count": null,
      "outputs": []
    },
    {
      "cell_type": "code",
      "source": [
        "reviews_en.shape"
      ],
      "metadata": {
        "colab": {
          "base_uri": "https://localhost:8080/"
        },
        "id": "14KlMOZAPoTD",
        "outputId": "8c899054-49fd-42e8-fa01-326cd9fa27c4"
      },
      "execution_count": null,
      "outputs": [
        {
          "output_type": "execute_result",
          "data": {
            "text/plain": [
              "(210152, 2)"
            ]
          },
          "metadata": {},
          "execution_count": 217
        }
      ]
    },
    {
      "cell_type": "code",
      "source": [
        "reviews_en.head()"
      ],
      "metadata": {
        "colab": {
          "base_uri": "https://localhost:8080/",
          "height": 206
        },
        "id": "xZyj_pAcq-9Q",
        "outputId": "9779b28a-6dd1-46db-b1d3-7a74cf2f3de7"
      },
      "execution_count": null,
      "outputs": [
        {
          "output_type": "execute_result",
          "data": {
            "text/plain": [
              "   listing_id                                           comments\n",
              "0       44077  We enjoyed our stay very much. The room was co...\n",
              "1       44077  We have been here 4 nights. Stay in a home is ...\n",
              "2       44077  Teresa and Hughie were great hosts. They were ...\n",
              "3       44077  No surprises, was as described.  Very gracious...\n",
              "4       44077  Teresa was a lovely hostess, and we had a deli..."
            ],
            "text/html": [
              "\n",
              "  <div id=\"df-36256727-1421-42fc-9c98-4ab3abb74ea8\">\n",
              "    <div class=\"colab-df-container\">\n",
              "      <div>\n",
              "<style scoped>\n",
              "    .dataframe tbody tr th:only-of-type {\n",
              "        vertical-align: middle;\n",
              "    }\n",
              "\n",
              "    .dataframe tbody tr th {\n",
              "        vertical-align: top;\n",
              "    }\n",
              "\n",
              "    .dataframe thead th {\n",
              "        text-align: right;\n",
              "    }\n",
              "</style>\n",
              "<table border=\"1\" class=\"dataframe\">\n",
              "  <thead>\n",
              "    <tr style=\"text-align: right;\">\n",
              "      <th></th>\n",
              "      <th>listing_id</th>\n",
              "      <th>comments</th>\n",
              "    </tr>\n",
              "  </thead>\n",
              "  <tbody>\n",
              "    <tr>\n",
              "      <th>0</th>\n",
              "      <td>44077</td>\n",
              "      <td>We enjoyed our stay very much. The room was co...</td>\n",
              "    </tr>\n",
              "    <tr>\n",
              "      <th>1</th>\n",
              "      <td>44077</td>\n",
              "      <td>We have been here 4 nights. Stay in a home is ...</td>\n",
              "    </tr>\n",
              "    <tr>\n",
              "      <th>2</th>\n",
              "      <td>44077</td>\n",
              "      <td>Teresa and Hughie were great hosts. They were ...</td>\n",
              "    </tr>\n",
              "    <tr>\n",
              "      <th>3</th>\n",
              "      <td>44077</td>\n",
              "      <td>No surprises, was as described.  Very gracious...</td>\n",
              "    </tr>\n",
              "    <tr>\n",
              "      <th>4</th>\n",
              "      <td>44077</td>\n",
              "      <td>Teresa was a lovely hostess, and we had a deli...</td>\n",
              "    </tr>\n",
              "  </tbody>\n",
              "</table>\n",
              "</div>\n",
              "      <button class=\"colab-df-convert\" onclick=\"convertToInteractive('df-36256727-1421-42fc-9c98-4ab3abb74ea8')\"\n",
              "              title=\"Convert this dataframe to an interactive table.\"\n",
              "              style=\"display:none;\">\n",
              "        \n",
              "  <svg xmlns=\"http://www.w3.org/2000/svg\" height=\"24px\"viewBox=\"0 0 24 24\"\n",
              "       width=\"24px\">\n",
              "    <path d=\"M0 0h24v24H0V0z\" fill=\"none\"/>\n",
              "    <path d=\"M18.56 5.44l.94 2.06.94-2.06 2.06-.94-2.06-.94-.94-2.06-.94 2.06-2.06.94zm-11 1L8.5 8.5l.94-2.06 2.06-.94-2.06-.94L8.5 2.5l-.94 2.06-2.06.94zm10 10l.94 2.06.94-2.06 2.06-.94-2.06-.94-.94-2.06-.94 2.06-2.06.94z\"/><path d=\"M17.41 7.96l-1.37-1.37c-.4-.4-.92-.59-1.43-.59-.52 0-1.04.2-1.43.59L10.3 9.45l-7.72 7.72c-.78.78-.78 2.05 0 2.83L4 21.41c.39.39.9.59 1.41.59.51 0 1.02-.2 1.41-.59l7.78-7.78 2.81-2.81c.8-.78.8-2.07 0-2.86zM5.41 20L4 18.59l7.72-7.72 1.47 1.35L5.41 20z\"/>\n",
              "  </svg>\n",
              "      </button>\n",
              "      \n",
              "  <style>\n",
              "    .colab-df-container {\n",
              "      display:flex;\n",
              "      flex-wrap:wrap;\n",
              "      gap: 12px;\n",
              "    }\n",
              "\n",
              "    .colab-df-convert {\n",
              "      background-color: #E8F0FE;\n",
              "      border: none;\n",
              "      border-radius: 50%;\n",
              "      cursor: pointer;\n",
              "      display: none;\n",
              "      fill: #1967D2;\n",
              "      height: 32px;\n",
              "      padding: 0 0 0 0;\n",
              "      width: 32px;\n",
              "    }\n",
              "\n",
              "    .colab-df-convert:hover {\n",
              "      background-color: #E2EBFA;\n",
              "      box-shadow: 0px 1px 2px rgba(60, 64, 67, 0.3), 0px 1px 3px 1px rgba(60, 64, 67, 0.15);\n",
              "      fill: #174EA6;\n",
              "    }\n",
              "\n",
              "    [theme=dark] .colab-df-convert {\n",
              "      background-color: #3B4455;\n",
              "      fill: #D2E3FC;\n",
              "    }\n",
              "\n",
              "    [theme=dark] .colab-df-convert:hover {\n",
              "      background-color: #434B5C;\n",
              "      box-shadow: 0px 1px 3px 1px rgba(0, 0, 0, 0.15);\n",
              "      filter: drop-shadow(0px 1px 2px rgba(0, 0, 0, 0.3));\n",
              "      fill: #FFFFFF;\n",
              "    }\n",
              "  </style>\n",
              "\n",
              "      <script>\n",
              "        const buttonEl =\n",
              "          document.querySelector('#df-36256727-1421-42fc-9c98-4ab3abb74ea8 button.colab-df-convert');\n",
              "        buttonEl.style.display =\n",
              "          google.colab.kernel.accessAllowed ? 'block' : 'none';\n",
              "\n",
              "        async function convertToInteractive(key) {\n",
              "          const element = document.querySelector('#df-36256727-1421-42fc-9c98-4ab3abb74ea8');\n",
              "          const dataTable =\n",
              "            await google.colab.kernel.invokeFunction('convertToInteractive',\n",
              "                                                     [key], {});\n",
              "          if (!dataTable) return;\n",
              "\n",
              "          const docLinkHtml = 'Like what you see? Visit the ' +\n",
              "            '<a target=\"_blank\" href=https://colab.research.google.com/notebooks/data_table.ipynb>data table notebook</a>'\n",
              "            + ' to learn more about interactive tables.';\n",
              "          element.innerHTML = '';\n",
              "          dataTable['output_type'] = 'display_data';\n",
              "          await google.colab.output.renderOutput(dataTable, element);\n",
              "          const docLink = document.createElement('div');\n",
              "          docLink.innerHTML = docLinkHtml;\n",
              "          element.appendChild(docLink);\n",
              "        }\n",
              "      </script>\n",
              "    </div>\n",
              "  </div>\n",
              "  "
            ]
          },
          "metadata": {},
          "execution_count": 218
        }
      ]
    },
    {
      "cell_type": "markdown",
      "source": [
        "# Sentiment analysis"
      ],
      "metadata": {
        "id": "U0HgpNGt06MV"
      }
    },
    {
      "cell_type": "code",
      "source": [
        "# Handle listings['description']\n",
        "sent_analysis(listings,'description','Host_sentiment_score')"
      ],
      "metadata": {
        "id": "WJT8XG9x1ImA"
      },
      "execution_count": null,
      "outputs": []
    },
    {
      "cell_type": "code",
      "source": [
        "# Handle reviews_total['comments']\n",
        "sent_analysis(reviews_en,'comments','Cust_sentiment_score')"
      ],
      "metadata": {
        "id": "p7O_9LS-1cr9"
      },
      "execution_count": null,
      "outputs": []
    },
    {
      "cell_type": "code",
      "source": [
        "# Drop the Features that are not needed\n",
        "listings.drop(['accommodates', 'beds', 'bedrooms', 'bathrooms_text', 'amenities', 'description'], axis = 1, inplace = True)\n",
        "reviews_en.drop(['comments'], axis = 1, inplace = True)"
      ],
      "metadata": {
        "id": "tHo6ZQd6r2Ds"
      },
      "execution_count": null,
      "outputs": []
    },
    {
      "cell_type": "code",
      "source": [
        "pd.set_option('display.max_columns', None)"
      ],
      "metadata": {
        "id": "6MpYSpIN1S8h"
      },
      "execution_count": null,
      "outputs": []
    },
    {
      "cell_type": "code",
      "source": [
        "listings.info()"
      ],
      "metadata": {
        "colab": {
          "base_uri": "https://localhost:8080/"
        },
        "id": "fIQlHptwsCqh",
        "outputId": "a04f4205-8ea5-47e8-cab8-35325485d0b1"
      },
      "execution_count": null,
      "outputs": [
        {
          "output_type": "stream",
          "name": "stdout",
          "text": [
            "<class 'pandas.core.frame.DataFrame'>\n",
            "Int64Index: 6209 entries, 0 to 6208\n",
            "Data columns (total 54 columns):\n",
            " #   Column                       Non-Null Count  Dtype  \n",
            "---  ------                       --------------  -----  \n",
            " 0   id                           6209 non-null   int64  \n",
            " 1   host_response_time           6209 non-null   object \n",
            " 2   host_response_rate           6209 non-null   object \n",
            " 3   host_acceptance_rate         6209 non-null   object \n",
            " 4   host_is_superhost            6209 non-null   object \n",
            " 5   host_has_profile_pic         6209 non-null   object \n",
            " 6   host_identity_verified       6209 non-null   object \n",
            " 7   price                        6209 non-null   object \n",
            " 8   has_availability             6209 non-null   object \n",
            " 9   review_scores_rating         6209 non-null   float64\n",
            " 10  review_scores_accuracy       6209 non-null   float64\n",
            " 11  review_scores_cleanliness    6209 non-null   float64\n",
            " 12  review_scores_checkin        6209 non-null   float64\n",
            " 13  review_scores_communication  6209 non-null   float64\n",
            " 14  review_scores_location       6209 non-null   float64\n",
            " 15  review_scores_value          6209 non-null   float64\n",
            " 16  instant_bookable             6209 non-null   object \n",
            " 17  reviews_per_month            6209 non-null   float64\n",
            " 18  bathroom_per_person          6209 non-null   object \n",
            " 19  bedroom_per_person           6209 non-null   object \n",
            " 20  bed_per_person               6209 non-null   object \n",
            " 21  Dn Laoghaire-Rathdown        6209 non-null   uint8  \n",
            " 22  Dublin City                  6209 non-null   uint8  \n",
            " 23  Fingal                       6209 non-null   uint8  \n",
            " 24  South Dublin                 6209 non-null   uint8  \n",
            " 25  Entire home/apt              6209 non-null   uint8  \n",
            " 26  Hotel room                   6209 non-null   uint8  \n",
            " 27  Private room                 6209 non-null   uint8  \n",
            " 28  Shared room                  6209 non-null   uint8  \n",
            " 29  Oven                         6209 non-null   int64  \n",
            " 30  Fire extinguisher            6209 non-null   int64  \n",
            " 31  Dryer                        6209 non-null   int64  \n",
            " 32  Hangers                      6209 non-null   int64  \n",
            " 33  Kitchen                      6209 non-null   int64  \n",
            " 34  Cooking basics               6209 non-null   int64  \n",
            " 35  Breakfast                    6209 non-null   int64  \n",
            " 36  Microwave                    6209 non-null   int64  \n",
            " 37  Heating                      6209 non-null   int64  \n",
            " 38  Washer                       6209 non-null   int64  \n",
            " 39  First aid kit                6209 non-null   int64  \n",
            " 40  Hot water                    6209 non-null   int64  \n",
            " 41  Iron                         6209 non-null   int64  \n",
            " 42  Dishwasher                   6209 non-null   int64  \n",
            " 43  Shampoo                      6209 non-null   int64  \n",
            " 44  Luggage dropoff allowed      6209 non-null   int64  \n",
            " 45  Coffee maker                 6209 non-null   int64  \n",
            " 46  Essentials                   6209 non-null   int64  \n",
            " 47  Refrigerator                 6209 non-null   int64  \n",
            " 48  Bed linens                   6209 non-null   int64  \n",
            " 49  Wifi                         6209 non-null   int64  \n",
            " 50  Self check-in                6209 non-null   int64  \n",
            " 51  Pets allowed                 6209 non-null   int64  \n",
            " 52  Elevator                     6209 non-null   int64  \n",
            " 53  Host_sentiment_score         6209 non-null   float64\n",
            "dtypes: float64(9), int64(25), object(12), uint8(8)\n",
            "memory usage: 2.3+ MB\n"
          ]
        }
      ]
    },
    {
      "cell_type": "code",
      "source": [
        "reviews_en.info()"
      ],
      "metadata": {
        "colab": {
          "base_uri": "https://localhost:8080/"
        },
        "id": "MaQKIXBMsEk3",
        "outputId": "0174b363-6606-4d7b-c1b4-77a54dcae022"
      },
      "execution_count": null,
      "outputs": [
        {
          "output_type": "stream",
          "name": "stdout",
          "text": [
            "<class 'pandas.core.frame.DataFrame'>\n",
            "RangeIndex: 210152 entries, 0 to 210151\n",
            "Data columns (total 2 columns):\n",
            " #   Column                Non-Null Count   Dtype  \n",
            "---  ------                --------------   -----  \n",
            " 0   listing_id            210152 non-null  int64  \n",
            " 1   Cust_sentiment_score  210152 non-null  float64\n",
            "dtypes: float64(1), int64(1)\n",
            "memory usage: 3.2 MB\n"
          ]
        }
      ]
    },
    {
      "cell_type": "code",
      "source": [
        "listings.to_csv('listings_clean.csv')"
      ],
      "metadata": {
        "id": "qJIi2MjU18Rv"
      },
      "execution_count": null,
      "outputs": []
    },
    {
      "cell_type": "code",
      "source": [
        "reviews_en.to_csv('reviews_clean.csv')"
      ],
      "metadata": {
        "id": "tRBQcfb61u9I"
      },
      "execution_count": null,
      "outputs": []
    }
  ]
}